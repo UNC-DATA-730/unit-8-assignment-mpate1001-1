{
 "cells": [
  {
   "cell_type": "markdown",
   "id": "a2df9007-506f-4e79-9a56-29c306c1cbe8",
   "metadata": {},
   "source": [
    "**Relevant reading for this problem set**:\n",
    "<a href=\"https://moderndive.com/8-confidence-intervals.html\"\n",
    "target=\"_blank\">ModernDive Chapter 8: Bootstrapping and Confidence\n",
    "Intervals</a>.\n",
    "\n",
    "## Background\n",
    "\n",
    "In this problem set we will use a small **sample** of data from the\n",
    "[General Social Survey](http://gss.norc.org/). The survey is designed to\n",
    "monitor changes in both social characteristics and attitudes. You will\n",
    "work with a **sample** from one neighborhood. The full neighborhood of\n",
    "**ALL individuals** is the population. For this problem set we do\n",
    "**not** know the **true population parameters** for any of the\n",
    "variables, because we do not have data on every person in the\n",
    "neighborhood.\n",
    "\n",
    "## Setup\n",
    "\n",
    "First load the necessary packages"
   ]
  },
  {
   "cell_type": "code",
   "execution_count": 1,
   "id": "c1b759de-3343-4238-a459-16c39ce3baa7",
   "metadata": {
    "tags": []
   },
   "outputs": [
    {
     "name": "stderr",
     "output_type": "stream",
     "text": [
      "Warning message:\n",
      "“Your system is mis-configured: ‘/var/db/timezone/localtime’ is not a symlink”\n",
      "Warning message:\n",
      "“‘/var/db/timezone/localtime’ is not identical to any known timezone file”\n",
      "── \u001b[1mAttaching core tidyverse packages\u001b[22m ──────────────────────── tidyverse 2.0.0 ──\n",
      "\u001b[32m✔\u001b[39m \u001b[34mdplyr    \u001b[39m 1.1.4     \u001b[32m✔\u001b[39m \u001b[34mreadr    \u001b[39m 2.1.5\n",
      "\u001b[32m✔\u001b[39m \u001b[34mforcats  \u001b[39m 1.0.0     \u001b[32m✔\u001b[39m \u001b[34mstringr  \u001b[39m 1.5.1\n",
      "\u001b[32m✔\u001b[39m \u001b[34mggplot2  \u001b[39m 3.5.1     \u001b[32m✔\u001b[39m \u001b[34mtibble   \u001b[39m 3.2.1\n",
      "\u001b[32m✔\u001b[39m \u001b[34mlubridate\u001b[39m 1.9.3     \u001b[32m✔\u001b[39m \u001b[34mtidyr    \u001b[39m 1.3.1\n",
      "\u001b[32m✔\u001b[39m \u001b[34mpurrr    \u001b[39m 1.0.2     \n",
      "── \u001b[1mConflicts\u001b[22m ────────────────────────────────────────── tidyverse_conflicts() ──\n",
      "\u001b[31m✖\u001b[39m \u001b[34mdplyr\u001b[39m::\u001b[32mfilter()\u001b[39m masks \u001b[34mstats\u001b[39m::filter()\n",
      "\u001b[31m✖\u001b[39m \u001b[34mdplyr\u001b[39m::\u001b[32mlag()\u001b[39m    masks \u001b[34mstats\u001b[39m::lag()\n",
      "\u001b[36mℹ\u001b[39m Use the conflicted package (\u001b[3m\u001b[34m<http://conflicted.r-lib.org/>\u001b[39m\u001b[23m) to force all conflicts to become errors\n"
     ]
    }
   ],
   "source": [
    "# Recall that loading the tidyverse \"umbrella\" package loads ggplot2, dplyr, and\n",
    "# readr all at once. Feel free to load these packages any way you choose.\n",
    "library('tidyverse')\n",
    "library('moderndive')"
   ]
  },
  {
   "cell_type": "markdown",
   "id": "d262566c-854d-4dd3-a4cb-42c3cb96c490",
   "metadata": {},
   "source": [
    "Next load the data set, from where it is stored on the web:"
   ]
  },
  {
   "cell_type": "code",
   "execution_count": 2,
   "id": "c44532e1-fd9f-4f1f-b72f-c3f58c5f9937",
   "metadata": {
    "tags": []
   },
   "outputs": [
    {
     "name": "stdout",
     "output_type": "stream",
     "text": [
      "Rows: 100\n",
      "Columns: 3\n",
      "$ age     \u001b[3m\u001b[90m<dbl>\u001b[39m\u001b[23m 79, 23, 31, 53, 39, 59, 45, 84, 52, 60, 21, 25, 56, 68, 58, 42…\n",
      "$ race    \u001b[3m\u001b[90m<chr>\u001b[39m\u001b[23m \"White\", \"White\", \"POC\", \"White\", \"White\", \"White\", \"White\", \"…\n",
      "$ tvhours \u001b[3m\u001b[90m<dbl>\u001b[39m\u001b[23m 1, 1, 4, 4, 1, 1, 2, 3, 4, 3, 0, 3, 1, 3, 4, 1, 1, 2, 1, 5, 2,…\n",
      "\u001b[90m# A tibble: 100 × 3\u001b[39m\n",
      "     age race  tvhours\n",
      "   \u001b[3m\u001b[90m<dbl>\u001b[39m\u001b[23m \u001b[3m\u001b[90m<chr>\u001b[39m\u001b[23m   \u001b[3m\u001b[90m<dbl>\u001b[39m\u001b[23m\n",
      "\u001b[90m 1\u001b[39m    79 White       1\n",
      "\u001b[90m 2\u001b[39m    23 White       1\n",
      "\u001b[90m 3\u001b[39m    31 POC         4\n",
      "\u001b[90m 4\u001b[39m    53 White       4\n",
      "\u001b[90m 5\u001b[39m    39 White       1\n",
      "\u001b[90m 6\u001b[39m    59 White       1\n",
      "\u001b[90m 7\u001b[39m    45 White       2\n",
      "\u001b[90m 8\u001b[39m    84 White       3\n",
      "\u001b[90m 9\u001b[39m    52 POC         4\n",
      "\u001b[90m10\u001b[39m    60 White       3\n",
      "\u001b[90m# ℹ 90 more rows\u001b[39m\n"
     ]
    }
   ],
   "source": [
    "gss_sample = read_csv(\"https://docs.google.com/spreadsheets/d/e/2PACX-1vSypSoDCMH2N76Vo2dZRPkw2q3t1mbvAXlOtgPDIsHg4NclAQFmER-BdvXH9_lrT40UQCVdPXOi_NMJ/pub?gid=257689625&single=true&output=csv\", col_types = cols())\n",
    "\n",
    "gss_sample |> glimpse()\n",
    "\n",
    "print(gss_sample)"
   ]
  },
  {
   "cell_type": "markdown",
   "id": "cf24d912-babe-46b1-8cc3-86e9970c6093",
   "metadata": {},
   "source": [
    "Be sure to take a look at the data in the **viewer**. Each row in the\n",
    "data set is a person that was surveyed (100 rows or cases in total). The\n",
    "variables in the data set include each respondent’s `age`, `race`, and\n",
    "number of hours of TV watched a day `tvhours`.\n",
    "\n",
    "**Setting a seed:** We will take some random samples and build sampling\n",
    "distributions in this lab. In order to make sure R takes the same random\n",
    "sample every time you run your code, you can do what is called “setting\n",
    "a seed”. Do this in any code chunk that you take a random sample!\n",
    "\n",
    "You can set a seed like so. Any number will do. (You do not need to run\n",
    "this right now…just showing you how)"
   ]
  },
  {
   "cell_type": "code",
   "execution_count": 3,
   "id": "f7bf85fa-d934-4ef6-97b6-274d071f6cb4",
   "metadata": {
    "tags": []
   },
   "outputs": [],
   "source": [
    "set.seed(45)"
   ]
  },
  {
   "cell_type": "markdown",
   "id": "ff12a45d-a707-4628-8d36-70e48002ad44",
   "metadata": {},
   "source": [
    "# Confidence intervals from a bootstrap resample\n",
    "\n",
    "### Step 1: Take 1000 bootstrap resamples\n",
    "\n",
    "The following code tells R to take 1000 bootstrap resamples from the\n",
    "`gss_sample` data. You can set the seed to whatever value you like!"
   ]
  },
  {
   "cell_type": "code",
   "execution_count": 4,
   "id": "c20e1280-7b9c-4157-be7e-844da040a091",
   "metadata": {
    "tags": []
   },
   "outputs": [
    {
     "data": {
      "text/html": [
       "<table class=\"dataframe\">\n",
       "<caption>A grouped_df: 6 × 4</caption>\n",
       "<thead>\n",
       "\t<tr><th scope=col>replicate</th><th scope=col>age</th><th scope=col>race</th><th scope=col>tvhours</th></tr>\n",
       "\t<tr><th scope=col>&lt;int&gt;</th><th scope=col>&lt;dbl&gt;</th><th scope=col>&lt;chr&gt;</th><th scope=col>&lt;dbl&gt;</th></tr>\n",
       "</thead>\n",
       "<tbody>\n",
       "\t<tr><td>1</td><td>37</td><td>POC  </td><td>2</td></tr>\n",
       "\t<tr><td>1</td><td>27</td><td>POC  </td><td>5</td></tr>\n",
       "\t<tr><td>1</td><td>76</td><td>White</td><td>0</td></tr>\n",
       "\t<tr><td>1</td><td>25</td><td>White</td><td>0</td></tr>\n",
       "\t<tr><td>1</td><td>67</td><td>White</td><td>2</td></tr>\n",
       "\t<tr><td>1</td><td>20</td><td>White</td><td>2</td></tr>\n",
       "</tbody>\n",
       "</table>\n"
      ],
      "text/latex": [
       "A grouped\\_df: 6 × 4\n",
       "\\begin{tabular}{llll}\n",
       " replicate & age & race & tvhours\\\\\n",
       " <int> & <dbl> & <chr> & <dbl>\\\\\n",
       "\\hline\n",
       "\t 1 & 37 & POC   & 2\\\\\n",
       "\t 1 & 27 & POC   & 5\\\\\n",
       "\t 1 & 76 & White & 0\\\\\n",
       "\t 1 & 25 & White & 0\\\\\n",
       "\t 1 & 67 & White & 2\\\\\n",
       "\t 1 & 20 & White & 2\\\\\n",
       "\\end{tabular}\n"
      ],
      "text/markdown": [
       "\n",
       "A grouped_df: 6 × 4\n",
       "\n",
       "| replicate &lt;int&gt; | age &lt;dbl&gt; | race &lt;chr&gt; | tvhours &lt;dbl&gt; |\n",
       "|---|---|---|---|\n",
       "| 1 | 37 | POC   | 2 |\n",
       "| 1 | 27 | POC   | 5 |\n",
       "| 1 | 76 | White | 0 |\n",
       "| 1 | 25 | White | 0 |\n",
       "| 1 | 67 | White | 2 |\n",
       "| 1 | 20 | White | 2 |\n",
       "\n"
      ],
      "text/plain": [
       "  replicate age race  tvhours\n",
       "1 1         37  POC   2      \n",
       "2 1         27  POC   5      \n",
       "3 1         76  White 0      \n",
       "4 1         25  White 0      \n",
       "5 1         67  White 2      \n",
       "6 1         20  White 2      "
      ]
     },
     "metadata": {},
     "output_type": "display_data"
    }
   ],
   "source": [
    "set.seed(42)\n",
    "\n",
    "boot_samp_1000 = gss_sample |> \n",
    "  rep_sample_n(size = 100, reps = 1000, replace = TRUE)\n",
    "\n",
    "boot_samp_1000 |> head()"
   ]
  },
  {
   "cell_type": "markdown",
   "id": "28251161-3581-48e6-80e4-4bbc4c8a37de",
   "metadata": {},
   "source": [
    "Note a few important details about the `rep_sample_n` function, and\n",
    "bootstrap sampling in general:\n",
    "\n",
    "-   `size = 100` tells R that each bootstrap resample we take has 100\n",
    "    cases… the size of the original sample\n",
    "-   `reps = 1000` tells R to take 1000 bootstrap resamples (each of size\n",
    "    100).\n",
    "-   The `replace = TRUE` argument tells R that in each bootstrap\n",
    "    resample, we can include a row from `gss_sample` multiple times. So\n",
    "    if for instance, respondent \\# 12 is the first random resample taken\n",
    "    here, respondent 12 is still available to be resampled **again** at\n",
    "    random. Thus, some people may appear **multiple times** in our\n",
    "    bootstrap resample, and some people from the original data set may\n",
    "    not appear at all.\n",
    "-   We save the results in a data frame `boot_samp_1000`.\n",
    "\n",
    "Take a look at the `boot_samp_1000` data frame we just generated in\n",
    "RStudio’s data viewer. Note that the `replicate` column labels each\n",
    "bootstrap resample (the first 100 rows are labeled 1, the next 100 rows\n",
    "are labeled 2, etc.)"
   ]
  },
  {
   "cell_type": "code",
   "execution_count": 8,
   "id": "0f77bf3e-45fe-4d6c-a1bf-430040c0feaf",
   "metadata": {
    "tags": []
   },
   "outputs": [
    {
     "data": {
      "text/html": [
       "<table class=\"dataframe\">\n",
       "<caption>A grouped_df: 100000 × 4</caption>\n",
       "<thead>\n",
       "\t<tr><th scope=col>replicate</th><th scope=col>age</th><th scope=col>race</th><th scope=col>tvhours</th></tr>\n",
       "\t<tr><th scope=col>&lt;int&gt;</th><th scope=col>&lt;dbl&gt;</th><th scope=col>&lt;chr&gt;</th><th scope=col>&lt;dbl&gt;</th></tr>\n",
       "</thead>\n",
       "<tbody>\n",
       "\t<tr><td>1</td><td>37</td><td>POC  </td><td> 2</td></tr>\n",
       "\t<tr><td>1</td><td>27</td><td>POC  </td><td> 5</td></tr>\n",
       "\t<tr><td>1</td><td>76</td><td>White</td><td> 0</td></tr>\n",
       "\t<tr><td>1</td><td>25</td><td>White</td><td> 0</td></tr>\n",
       "\t<tr><td>1</td><td>67</td><td>White</td><td> 2</td></tr>\n",
       "\t<tr><td>1</td><td>20</td><td>White</td><td> 2</td></tr>\n",
       "\t<tr><td>1</td><td>37</td><td>POC  </td><td> 2</td></tr>\n",
       "\t<tr><td>1</td><td>79</td><td>White</td><td> 5</td></tr>\n",
       "\t<tr><td>1</td><td>33</td><td>POC  </td><td> 1</td></tr>\n",
       "\t<tr><td>1</td><td>49</td><td>White</td><td> 3</td></tr>\n",
       "\t<tr><td>1</td><td>67</td><td>White</td><td> 2</td></tr>\n",
       "\t<tr><td>1</td><td>41</td><td>White</td><td> 1</td></tr>\n",
       "\t<tr><td>1</td><td>40</td><td>White</td><td> 2</td></tr>\n",
       "\t<tr><td>1</td><td>61</td><td>White</td><td> 5</td></tr>\n",
       "\t<tr><td>1</td><td>40</td><td>POC  </td><td> 3</td></tr>\n",
       "\t<tr><td>1</td><td>31</td><td>POC  </td><td> 4</td></tr>\n",
       "\t<tr><td>1</td><td>55</td><td>White</td><td> 4</td></tr>\n",
       "\t<tr><td>1</td><td>41</td><td>White</td><td> 1</td></tr>\n",
       "\t<tr><td>1</td><td>27</td><td>White</td><td> 2</td></tr>\n",
       "\t<tr><td>1</td><td>38</td><td>White</td><td> 1</td></tr>\n",
       "\t<tr><td>1</td><td>78</td><td>White</td><td> 1</td></tr>\n",
       "\t<tr><td>1</td><td>39</td><td>White</td><td> 1</td></tr>\n",
       "\t<tr><td>1</td><td>39</td><td>POC  </td><td> 3</td></tr>\n",
       "\t<tr><td>1</td><td>37</td><td>White</td><td> 1</td></tr>\n",
       "\t<tr><td>1</td><td>68</td><td>White</td><td> 5</td></tr>\n",
       "\t<tr><td>1</td><td>31</td><td>POC  </td><td> 4</td></tr>\n",
       "\t<tr><td>1</td><td>29</td><td>White</td><td> 0</td></tr>\n",
       "\t<tr><td>1</td><td>27</td><td>POC  </td><td>16</td></tr>\n",
       "\t<tr><td>1</td><td>22</td><td>White</td><td> 5</td></tr>\n",
       "\t<tr><td>1</td><td>33</td><td>POC  </td><td> 1</td></tr>\n",
       "\t<tr><td>⋮</td><td>⋮</td><td>⋮</td><td>⋮</td></tr>\n",
       "\t<tr><td>1000</td><td>59</td><td>White</td><td> 1</td></tr>\n",
       "\t<tr><td>1000</td><td>79</td><td>White</td><td> 6</td></tr>\n",
       "\t<tr><td>1000</td><td>52</td><td>POC  </td><td> 4</td></tr>\n",
       "\t<tr><td>1000</td><td>42</td><td>White</td><td> 2</td></tr>\n",
       "\t<tr><td>1000</td><td>41</td><td>White</td><td> 0</td></tr>\n",
       "\t<tr><td>1000</td><td>37</td><td>White</td><td> 2</td></tr>\n",
       "\t<tr><td>1000</td><td>56</td><td>White</td><td>17</td></tr>\n",
       "\t<tr><td>1000</td><td>29</td><td>White</td><td> 0</td></tr>\n",
       "\t<tr><td>1000</td><td>39</td><td>POC  </td><td> 3</td></tr>\n",
       "\t<tr><td>1000</td><td>65</td><td>White</td><td> 5</td></tr>\n",
       "\t<tr><td>1000</td><td>50</td><td>White</td><td> 4</td></tr>\n",
       "\t<tr><td>1000</td><td>67</td><td>White</td><td> 2</td></tr>\n",
       "\t<tr><td>1000</td><td>73</td><td>White</td><td> 4</td></tr>\n",
       "\t<tr><td>1000</td><td>79</td><td>White</td><td> 1</td></tr>\n",
       "\t<tr><td>1000</td><td>56</td><td>POC  </td><td> 1</td></tr>\n",
       "\t<tr><td>1000</td><td>48</td><td>White</td><td> 4</td></tr>\n",
       "\t<tr><td>1000</td><td>46</td><td>White</td><td> 1</td></tr>\n",
       "\t<tr><td>1000</td><td>55</td><td>White</td><td> 4</td></tr>\n",
       "\t<tr><td>1000</td><td>25</td><td>POC  </td><td> 3</td></tr>\n",
       "\t<tr><td>1000</td><td>68</td><td>White</td><td> 3</td></tr>\n",
       "\t<tr><td>1000</td><td>64</td><td>White</td><td> 3</td></tr>\n",
       "\t<tr><td>1000</td><td>46</td><td>White</td><td> 1</td></tr>\n",
       "\t<tr><td>1000</td><td>37</td><td>White</td><td> 1</td></tr>\n",
       "\t<tr><td>1000</td><td>68</td><td>White</td><td> 5</td></tr>\n",
       "\t<tr><td>1000</td><td>22</td><td>White</td><td> 5</td></tr>\n",
       "\t<tr><td>1000</td><td>54</td><td>POC  </td><td> 4</td></tr>\n",
       "\t<tr><td>1000</td><td>80</td><td>White</td><td> 8</td></tr>\n",
       "\t<tr><td>1000</td><td>22</td><td>White</td><td> 5</td></tr>\n",
       "\t<tr><td>1000</td><td>46</td><td>White</td><td> 1</td></tr>\n",
       "\t<tr><td>1000</td><td>27</td><td>White</td><td> 1</td></tr>\n",
       "</tbody>\n",
       "</table>\n"
      ],
      "text/latex": [
       "A grouped\\_df: 100000 × 4\n",
       "\\begin{tabular}{llll}\n",
       " replicate & age & race & tvhours\\\\\n",
       " <int> & <dbl> & <chr> & <dbl>\\\\\n",
       "\\hline\n",
       "\t 1 & 37 & POC   &  2\\\\\n",
       "\t 1 & 27 & POC   &  5\\\\\n",
       "\t 1 & 76 & White &  0\\\\\n",
       "\t 1 & 25 & White &  0\\\\\n",
       "\t 1 & 67 & White &  2\\\\\n",
       "\t 1 & 20 & White &  2\\\\\n",
       "\t 1 & 37 & POC   &  2\\\\\n",
       "\t 1 & 79 & White &  5\\\\\n",
       "\t 1 & 33 & POC   &  1\\\\\n",
       "\t 1 & 49 & White &  3\\\\\n",
       "\t 1 & 67 & White &  2\\\\\n",
       "\t 1 & 41 & White &  1\\\\\n",
       "\t 1 & 40 & White &  2\\\\\n",
       "\t 1 & 61 & White &  5\\\\\n",
       "\t 1 & 40 & POC   &  3\\\\\n",
       "\t 1 & 31 & POC   &  4\\\\\n",
       "\t 1 & 55 & White &  4\\\\\n",
       "\t 1 & 41 & White &  1\\\\\n",
       "\t 1 & 27 & White &  2\\\\\n",
       "\t 1 & 38 & White &  1\\\\\n",
       "\t 1 & 78 & White &  1\\\\\n",
       "\t 1 & 39 & White &  1\\\\\n",
       "\t 1 & 39 & POC   &  3\\\\\n",
       "\t 1 & 37 & White &  1\\\\\n",
       "\t 1 & 68 & White &  5\\\\\n",
       "\t 1 & 31 & POC   &  4\\\\\n",
       "\t 1 & 29 & White &  0\\\\\n",
       "\t 1 & 27 & POC   & 16\\\\\n",
       "\t 1 & 22 & White &  5\\\\\n",
       "\t 1 & 33 & POC   &  1\\\\\n",
       "\t ⋮ & ⋮ & ⋮ & ⋮\\\\\n",
       "\t 1000 & 59 & White &  1\\\\\n",
       "\t 1000 & 79 & White &  6\\\\\n",
       "\t 1000 & 52 & POC   &  4\\\\\n",
       "\t 1000 & 42 & White &  2\\\\\n",
       "\t 1000 & 41 & White &  0\\\\\n",
       "\t 1000 & 37 & White &  2\\\\\n",
       "\t 1000 & 56 & White & 17\\\\\n",
       "\t 1000 & 29 & White &  0\\\\\n",
       "\t 1000 & 39 & POC   &  3\\\\\n",
       "\t 1000 & 65 & White &  5\\\\\n",
       "\t 1000 & 50 & White &  4\\\\\n",
       "\t 1000 & 67 & White &  2\\\\\n",
       "\t 1000 & 73 & White &  4\\\\\n",
       "\t 1000 & 79 & White &  1\\\\\n",
       "\t 1000 & 56 & POC   &  1\\\\\n",
       "\t 1000 & 48 & White &  4\\\\\n",
       "\t 1000 & 46 & White &  1\\\\\n",
       "\t 1000 & 55 & White &  4\\\\\n",
       "\t 1000 & 25 & POC   &  3\\\\\n",
       "\t 1000 & 68 & White &  3\\\\\n",
       "\t 1000 & 64 & White &  3\\\\\n",
       "\t 1000 & 46 & White &  1\\\\\n",
       "\t 1000 & 37 & White &  1\\\\\n",
       "\t 1000 & 68 & White &  5\\\\\n",
       "\t 1000 & 22 & White &  5\\\\\n",
       "\t 1000 & 54 & POC   &  4\\\\\n",
       "\t 1000 & 80 & White &  8\\\\\n",
       "\t 1000 & 22 & White &  5\\\\\n",
       "\t 1000 & 46 & White &  1\\\\\n",
       "\t 1000 & 27 & White &  1\\\\\n",
       "\\end{tabular}\n"
      ],
      "text/markdown": [
       "\n",
       "A grouped_df: 100000 × 4\n",
       "\n",
       "| replicate &lt;int&gt; | age &lt;dbl&gt; | race &lt;chr&gt; | tvhours &lt;dbl&gt; |\n",
       "|---|---|---|---|\n",
       "| 1 | 37 | POC   |  2 |\n",
       "| 1 | 27 | POC   |  5 |\n",
       "| 1 | 76 | White |  0 |\n",
       "| 1 | 25 | White |  0 |\n",
       "| 1 | 67 | White |  2 |\n",
       "| 1 | 20 | White |  2 |\n",
       "| 1 | 37 | POC   |  2 |\n",
       "| 1 | 79 | White |  5 |\n",
       "| 1 | 33 | POC   |  1 |\n",
       "| 1 | 49 | White |  3 |\n",
       "| 1 | 67 | White |  2 |\n",
       "| 1 | 41 | White |  1 |\n",
       "| 1 | 40 | White |  2 |\n",
       "| 1 | 61 | White |  5 |\n",
       "| 1 | 40 | POC   |  3 |\n",
       "| 1 | 31 | POC   |  4 |\n",
       "| 1 | 55 | White |  4 |\n",
       "| 1 | 41 | White |  1 |\n",
       "| 1 | 27 | White |  2 |\n",
       "| 1 | 38 | White |  1 |\n",
       "| 1 | 78 | White |  1 |\n",
       "| 1 | 39 | White |  1 |\n",
       "| 1 | 39 | POC   |  3 |\n",
       "| 1 | 37 | White |  1 |\n",
       "| 1 | 68 | White |  5 |\n",
       "| 1 | 31 | POC   |  4 |\n",
       "| 1 | 29 | White |  0 |\n",
       "| 1 | 27 | POC   | 16 |\n",
       "| 1 | 22 | White |  5 |\n",
       "| 1 | 33 | POC   |  1 |\n",
       "| ⋮ | ⋮ | ⋮ | ⋮ |\n",
       "| 1000 | 59 | White |  1 |\n",
       "| 1000 | 79 | White |  6 |\n",
       "| 1000 | 52 | POC   |  4 |\n",
       "| 1000 | 42 | White |  2 |\n",
       "| 1000 | 41 | White |  0 |\n",
       "| 1000 | 37 | White |  2 |\n",
       "| 1000 | 56 | White | 17 |\n",
       "| 1000 | 29 | White |  0 |\n",
       "| 1000 | 39 | POC   |  3 |\n",
       "| 1000 | 65 | White |  5 |\n",
       "| 1000 | 50 | White |  4 |\n",
       "| 1000 | 67 | White |  2 |\n",
       "| 1000 | 73 | White |  4 |\n",
       "| 1000 | 79 | White |  1 |\n",
       "| 1000 | 56 | POC   |  1 |\n",
       "| 1000 | 48 | White |  4 |\n",
       "| 1000 | 46 | White |  1 |\n",
       "| 1000 | 55 | White |  4 |\n",
       "| 1000 | 25 | POC   |  3 |\n",
       "| 1000 | 68 | White |  3 |\n",
       "| 1000 | 64 | White |  3 |\n",
       "| 1000 | 46 | White |  1 |\n",
       "| 1000 | 37 | White |  1 |\n",
       "| 1000 | 68 | White |  5 |\n",
       "| 1000 | 22 | White |  5 |\n",
       "| 1000 | 54 | POC   |  4 |\n",
       "| 1000 | 80 | White |  8 |\n",
       "| 1000 | 22 | White |  5 |\n",
       "| 1000 | 46 | White |  1 |\n",
       "| 1000 | 27 | White |  1 |\n",
       "\n"
      ],
      "text/plain": [
       "       replicate age race  tvhours\n",
       "1      1         37  POC    2     \n",
       "2      1         27  POC    5     \n",
       "3      1         76  White  0     \n",
       "4      1         25  White  0     \n",
       "5      1         67  White  2     \n",
       "6      1         20  White  2     \n",
       "7      1         37  POC    2     \n",
       "8      1         79  White  5     \n",
       "9      1         33  POC    1     \n",
       "10     1         49  White  3     \n",
       "11     1         67  White  2     \n",
       "12     1         41  White  1     \n",
       "13     1         40  White  2     \n",
       "14     1         61  White  5     \n",
       "15     1         40  POC    3     \n",
       "16     1         31  POC    4     \n",
       "17     1         55  White  4     \n",
       "18     1         41  White  1     \n",
       "19     1         27  White  2     \n",
       "20     1         38  White  1     \n",
       "21     1         78  White  1     \n",
       "22     1         39  White  1     \n",
       "23     1         39  POC    3     \n",
       "24     1         37  White  1     \n",
       "25     1         68  White  5     \n",
       "26     1         31  POC    4     \n",
       "27     1         29  White  0     \n",
       "28     1         27  POC   16     \n",
       "29     1         22  White  5     \n",
       "30     1         33  POC    1     \n",
       "⋮      ⋮         ⋮   ⋮     ⋮      \n",
       "99971  1000      59  White  1     \n",
       "99972  1000      79  White  6     \n",
       "99973  1000      52  POC    4     \n",
       "99974  1000      42  White  2     \n",
       "99975  1000      41  White  0     \n",
       "99976  1000      37  White  2     \n",
       "99977  1000      56  White 17     \n",
       "99978  1000      29  White  0     \n",
       "99979  1000      39  POC    3     \n",
       "99980  1000      65  White  5     \n",
       "99981  1000      50  White  4     \n",
       "99982  1000      67  White  2     \n",
       "99983  1000      73  White  4     \n",
       "99984  1000      79  White  1     \n",
       "99985  1000      56  POC    1     \n",
       "99986  1000      48  White  4     \n",
       "99987  1000      46  White  1     \n",
       "99988  1000      55  White  4     \n",
       "99989  1000      25  POC    3     \n",
       "99990  1000      68  White  3     \n",
       "99991  1000      64  White  3     \n",
       "99992  1000      46  White  1     \n",
       "99993  1000      37  White  1     \n",
       "99994  1000      68  White  5     \n",
       "99995  1000      22  White  5     \n",
       "99996  1000      54  POC    4     \n",
       "99997  1000      80  White  8     \n",
       "99998  1000      22  White  5     \n",
       "99999  1000      46  White  1     \n",
       "100000 1000      27  White  1     "
      ]
     },
     "metadata": {},
     "output_type": "display_data"
    }
   ],
   "source": [
    "boot_samp_1000"
   ]
  },
  {
   "cell_type": "markdown",
   "id": "55880bd0-cc9d-4ae2-b8ca-c0bb5211b311",
   "metadata": {},
   "source": [
    "## Question 1\n",
    "\n",
    "How many rows does `boot_samp_1000` have? **Why?**\n",
    "\n",
    "**Answer:**"
   ]
  },
  {
   "cell_type": "markdown",
   "id": "b0f8f5d2-a2bb-4d2a-81eb-5b70cf98e9e9",
   "metadata": {},
   "source": [
    "boot_samp_1000 has 100000 rows at 100*10000."
   ]
  },
  {
   "cell_type": "markdown",
   "id": "4d523f86-8bc9-4d10-aecf-3ba0091e1dfa",
   "metadata": {},
   "source": [
    "### Step 2: Calculate the bootstrap statistic\n",
    "\n",
    "Let’s say we want to use the bootstrap resample that we just generated\n",
    "to calculate a confidence interval for the population mean $\\mu_{tv}$ of\n",
    "`tvhours`. To do so, we need to know the sample mean $\\bar{x}$ of\n",
    "`tvhours` **for each of the 1000 bootstrap resamples**. In this case,\n",
    "the sample mean $\\bar{x}$ of `tvhours` for **each bootstrap resample**\n",
    "is our **BOOTSTRAP STATISTIC**. We can calculate that with two lines of\n",
    "code, like so:"
   ]
  },
  {
   "cell_type": "code",
   "execution_count": 9,
   "id": "8f918ae8-664f-42d0-8601-3b396ffea45f",
   "metadata": {},
   "outputs": [
    {
     "data": {
      "text/html": [
       "<table class=\"dataframe\">\n",
       "<caption>A tibble: 6 × 2</caption>\n",
       "<thead>\n",
       "\t<tr><th scope=col>replicate</th><th scope=col>boot_stat</th></tr>\n",
       "\t<tr><th scope=col>&lt;int&gt;</th><th scope=col>&lt;dbl&gt;</th></tr>\n",
       "</thead>\n",
       "<tbody>\n",
       "\t<tr><td>1</td><td>2.72</td></tr>\n",
       "\t<tr><td>2</td><td>3.45</td></tr>\n",
       "\t<tr><td>3</td><td>2.96</td></tr>\n",
       "\t<tr><td>4</td><td>2.80</td></tr>\n",
       "\t<tr><td>5</td><td>3.16</td></tr>\n",
       "\t<tr><td>6</td><td>2.77</td></tr>\n",
       "</tbody>\n",
       "</table>\n"
      ],
      "text/latex": [
       "A tibble: 6 × 2\n",
       "\\begin{tabular}{ll}\n",
       " replicate & boot\\_stat\\\\\n",
       " <int> & <dbl>\\\\\n",
       "\\hline\n",
       "\t 1 & 2.72\\\\\n",
       "\t 2 & 3.45\\\\\n",
       "\t 3 & 2.96\\\\\n",
       "\t 4 & 2.80\\\\\n",
       "\t 5 & 3.16\\\\\n",
       "\t 6 & 2.77\\\\\n",
       "\\end{tabular}\n"
      ],
      "text/markdown": [
       "\n",
       "A tibble: 6 × 2\n",
       "\n",
       "| replicate &lt;int&gt; | boot_stat &lt;dbl&gt; |\n",
       "|---|---|\n",
       "| 1 | 2.72 |\n",
       "| 2 | 3.45 |\n",
       "| 3 | 2.96 |\n",
       "| 4 | 2.80 |\n",
       "| 5 | 3.16 |\n",
       "| 6 | 2.77 |\n",
       "\n"
      ],
      "text/plain": [
       "  replicate boot_stat\n",
       "1 1         2.72     \n",
       "2 2         3.45     \n",
       "3 3         2.96     \n",
       "4 4         2.80     \n",
       "5 5         3.16     \n",
       "6 6         2.77     "
      ]
     },
     "metadata": {},
     "output_type": "display_data"
    }
   ],
   "source": [
    "boot_distrib_tv = boot_samp_1000 |>\n",
    "  group_by(replicate) |> \n",
    "  summarize(boot_stat = mean(tvhours))\n",
    "\n",
    "boot_distrib_tv |> head()"
   ]
  },
  {
   "cell_type": "markdown",
   "id": "063aad2e-4873-4e63-8247-db0b82013512",
   "metadata": {},
   "source": [
    "Note that:\n",
    "\n",
    "-   The `group_by()` argument tells R to take the sample mean of\n",
    "    `tvhours` **separately** for each different `replicate` in the\n",
    "    bootstrap resample.\n",
    "-   We put the sample mean for each bootstrap resample in a column\n",
    "    called `boot_stat`\n",
    "\n",
    "> This is the bootstrap distribution for the mean of `tvhours`!\n",
    "\n",
    "Take a look at the `boot_distrib_tv` we just created in RStudio’s data\n",
    "viewer."
   ]
  },
  {
   "cell_type": "code",
   "execution_count": 10,
   "id": "b99bd345-008d-45a5-af00-2741d74617ef",
   "metadata": {
    "tags": []
   },
   "outputs": [
    {
     "data": {
      "text/html": [
       "<table class=\"dataframe\">\n",
       "<caption>A tibble: 1000 × 2</caption>\n",
       "<thead>\n",
       "\t<tr><th scope=col>replicate</th><th scope=col>boot_stat</th></tr>\n",
       "\t<tr><th scope=col>&lt;int&gt;</th><th scope=col>&lt;dbl&gt;</th></tr>\n",
       "</thead>\n",
       "<tbody>\n",
       "\t<tr><td> 1</td><td>2.72</td></tr>\n",
       "\t<tr><td> 2</td><td>3.45</td></tr>\n",
       "\t<tr><td> 3</td><td>2.96</td></tr>\n",
       "\t<tr><td> 4</td><td>2.80</td></tr>\n",
       "\t<tr><td> 5</td><td>3.16</td></tr>\n",
       "\t<tr><td> 6</td><td>2.77</td></tr>\n",
       "\t<tr><td> 7</td><td>4.01</td></tr>\n",
       "\t<tr><td> 8</td><td>2.87</td></tr>\n",
       "\t<tr><td> 9</td><td>3.02</td></tr>\n",
       "\t<tr><td>10</td><td>3.18</td></tr>\n",
       "\t<tr><td>11</td><td>2.87</td></tr>\n",
       "\t<tr><td>12</td><td>3.29</td></tr>\n",
       "\t<tr><td>13</td><td>3.24</td></tr>\n",
       "\t<tr><td>14</td><td>3.20</td></tr>\n",
       "\t<tr><td>15</td><td>3.08</td></tr>\n",
       "\t<tr><td>16</td><td>3.04</td></tr>\n",
       "\t<tr><td>17</td><td>3.45</td></tr>\n",
       "\t<tr><td>18</td><td>2.66</td></tr>\n",
       "\t<tr><td>19</td><td>3.10</td></tr>\n",
       "\t<tr><td>20</td><td>3.23</td></tr>\n",
       "\t<tr><td>21</td><td>3.42</td></tr>\n",
       "\t<tr><td>22</td><td>3.29</td></tr>\n",
       "\t<tr><td>23</td><td>4.17</td></tr>\n",
       "\t<tr><td>24</td><td>2.60</td></tr>\n",
       "\t<tr><td>25</td><td>3.54</td></tr>\n",
       "\t<tr><td>26</td><td>3.02</td></tr>\n",
       "\t<tr><td>27</td><td>3.28</td></tr>\n",
       "\t<tr><td>28</td><td>3.24</td></tr>\n",
       "\t<tr><td>29</td><td>2.86</td></tr>\n",
       "\t<tr><td>30</td><td>3.67</td></tr>\n",
       "\t<tr><td>⋮</td><td>⋮</td></tr>\n",
       "\t<tr><td> 971</td><td>2.71</td></tr>\n",
       "\t<tr><td> 972</td><td>2.70</td></tr>\n",
       "\t<tr><td> 973</td><td>3.46</td></tr>\n",
       "\t<tr><td> 974</td><td>3.02</td></tr>\n",
       "\t<tr><td> 975</td><td>3.26</td></tr>\n",
       "\t<tr><td> 976</td><td>2.89</td></tr>\n",
       "\t<tr><td> 977</td><td>3.78</td></tr>\n",
       "\t<tr><td> 978</td><td>3.18</td></tr>\n",
       "\t<tr><td> 979</td><td>3.27</td></tr>\n",
       "\t<tr><td> 980</td><td>3.45</td></tr>\n",
       "\t<tr><td> 981</td><td>2.98</td></tr>\n",
       "\t<tr><td> 982</td><td>2.61</td></tr>\n",
       "\t<tr><td> 983</td><td>3.18</td></tr>\n",
       "\t<tr><td> 984</td><td>2.77</td></tr>\n",
       "\t<tr><td> 985</td><td>2.41</td></tr>\n",
       "\t<tr><td> 986</td><td>3.08</td></tr>\n",
       "\t<tr><td> 987</td><td>2.79</td></tr>\n",
       "\t<tr><td> 988</td><td>3.26</td></tr>\n",
       "\t<tr><td> 989</td><td>2.92</td></tr>\n",
       "\t<tr><td> 990</td><td>2.78</td></tr>\n",
       "\t<tr><td> 991</td><td>3.27</td></tr>\n",
       "\t<tr><td> 992</td><td>3.37</td></tr>\n",
       "\t<tr><td> 993</td><td>3.85</td></tr>\n",
       "\t<tr><td> 994</td><td>3.13</td></tr>\n",
       "\t<tr><td> 995</td><td>2.98</td></tr>\n",
       "\t<tr><td> 996</td><td>3.57</td></tr>\n",
       "\t<tr><td> 997</td><td>3.05</td></tr>\n",
       "\t<tr><td> 998</td><td>3.75</td></tr>\n",
       "\t<tr><td> 999</td><td>3.09</td></tr>\n",
       "\t<tr><td>1000</td><td>3.25</td></tr>\n",
       "</tbody>\n",
       "</table>\n"
      ],
      "text/latex": [
       "A tibble: 1000 × 2\n",
       "\\begin{tabular}{ll}\n",
       " replicate & boot\\_stat\\\\\n",
       " <int> & <dbl>\\\\\n",
       "\\hline\n",
       "\t  1 & 2.72\\\\\n",
       "\t  2 & 3.45\\\\\n",
       "\t  3 & 2.96\\\\\n",
       "\t  4 & 2.80\\\\\n",
       "\t  5 & 3.16\\\\\n",
       "\t  6 & 2.77\\\\\n",
       "\t  7 & 4.01\\\\\n",
       "\t  8 & 2.87\\\\\n",
       "\t  9 & 3.02\\\\\n",
       "\t 10 & 3.18\\\\\n",
       "\t 11 & 2.87\\\\\n",
       "\t 12 & 3.29\\\\\n",
       "\t 13 & 3.24\\\\\n",
       "\t 14 & 3.20\\\\\n",
       "\t 15 & 3.08\\\\\n",
       "\t 16 & 3.04\\\\\n",
       "\t 17 & 3.45\\\\\n",
       "\t 18 & 2.66\\\\\n",
       "\t 19 & 3.10\\\\\n",
       "\t 20 & 3.23\\\\\n",
       "\t 21 & 3.42\\\\\n",
       "\t 22 & 3.29\\\\\n",
       "\t 23 & 4.17\\\\\n",
       "\t 24 & 2.60\\\\\n",
       "\t 25 & 3.54\\\\\n",
       "\t 26 & 3.02\\\\\n",
       "\t 27 & 3.28\\\\\n",
       "\t 28 & 3.24\\\\\n",
       "\t 29 & 2.86\\\\\n",
       "\t 30 & 3.67\\\\\n",
       "\t ⋮ & ⋮\\\\\n",
       "\t  971 & 2.71\\\\\n",
       "\t  972 & 2.70\\\\\n",
       "\t  973 & 3.46\\\\\n",
       "\t  974 & 3.02\\\\\n",
       "\t  975 & 3.26\\\\\n",
       "\t  976 & 2.89\\\\\n",
       "\t  977 & 3.78\\\\\n",
       "\t  978 & 3.18\\\\\n",
       "\t  979 & 3.27\\\\\n",
       "\t  980 & 3.45\\\\\n",
       "\t  981 & 2.98\\\\\n",
       "\t  982 & 2.61\\\\\n",
       "\t  983 & 3.18\\\\\n",
       "\t  984 & 2.77\\\\\n",
       "\t  985 & 2.41\\\\\n",
       "\t  986 & 3.08\\\\\n",
       "\t  987 & 2.79\\\\\n",
       "\t  988 & 3.26\\\\\n",
       "\t  989 & 2.92\\\\\n",
       "\t  990 & 2.78\\\\\n",
       "\t  991 & 3.27\\\\\n",
       "\t  992 & 3.37\\\\\n",
       "\t  993 & 3.85\\\\\n",
       "\t  994 & 3.13\\\\\n",
       "\t  995 & 2.98\\\\\n",
       "\t  996 & 3.57\\\\\n",
       "\t  997 & 3.05\\\\\n",
       "\t  998 & 3.75\\\\\n",
       "\t  999 & 3.09\\\\\n",
       "\t 1000 & 3.25\\\\\n",
       "\\end{tabular}\n"
      ],
      "text/markdown": [
       "\n",
       "A tibble: 1000 × 2\n",
       "\n",
       "| replicate &lt;int&gt; | boot_stat &lt;dbl&gt; |\n",
       "|---|---|\n",
       "|  1 | 2.72 |\n",
       "|  2 | 3.45 |\n",
       "|  3 | 2.96 |\n",
       "|  4 | 2.80 |\n",
       "|  5 | 3.16 |\n",
       "|  6 | 2.77 |\n",
       "|  7 | 4.01 |\n",
       "|  8 | 2.87 |\n",
       "|  9 | 3.02 |\n",
       "| 10 | 3.18 |\n",
       "| 11 | 2.87 |\n",
       "| 12 | 3.29 |\n",
       "| 13 | 3.24 |\n",
       "| 14 | 3.20 |\n",
       "| 15 | 3.08 |\n",
       "| 16 | 3.04 |\n",
       "| 17 | 3.45 |\n",
       "| 18 | 2.66 |\n",
       "| 19 | 3.10 |\n",
       "| 20 | 3.23 |\n",
       "| 21 | 3.42 |\n",
       "| 22 | 3.29 |\n",
       "| 23 | 4.17 |\n",
       "| 24 | 2.60 |\n",
       "| 25 | 3.54 |\n",
       "| 26 | 3.02 |\n",
       "| 27 | 3.28 |\n",
       "| 28 | 3.24 |\n",
       "| 29 | 2.86 |\n",
       "| 30 | 3.67 |\n",
       "| ⋮ | ⋮ |\n",
       "|  971 | 2.71 |\n",
       "|  972 | 2.70 |\n",
       "|  973 | 3.46 |\n",
       "|  974 | 3.02 |\n",
       "|  975 | 3.26 |\n",
       "|  976 | 2.89 |\n",
       "|  977 | 3.78 |\n",
       "|  978 | 3.18 |\n",
       "|  979 | 3.27 |\n",
       "|  980 | 3.45 |\n",
       "|  981 | 2.98 |\n",
       "|  982 | 2.61 |\n",
       "|  983 | 3.18 |\n",
       "|  984 | 2.77 |\n",
       "|  985 | 2.41 |\n",
       "|  986 | 3.08 |\n",
       "|  987 | 2.79 |\n",
       "|  988 | 3.26 |\n",
       "|  989 | 2.92 |\n",
       "|  990 | 2.78 |\n",
       "|  991 | 3.27 |\n",
       "|  992 | 3.37 |\n",
       "|  993 | 3.85 |\n",
       "|  994 | 3.13 |\n",
       "|  995 | 2.98 |\n",
       "|  996 | 3.57 |\n",
       "|  997 | 3.05 |\n",
       "|  998 | 3.75 |\n",
       "|  999 | 3.09 |\n",
       "| 1000 | 3.25 |\n",
       "\n"
      ],
      "text/plain": [
       "     replicate boot_stat\n",
       "1     1        2.72     \n",
       "2     2        3.45     \n",
       "3     3        2.96     \n",
       "4     4        2.80     \n",
       "5     5        3.16     \n",
       "6     6        2.77     \n",
       "7     7        4.01     \n",
       "8     8        2.87     \n",
       "9     9        3.02     \n",
       "10   10        3.18     \n",
       "11   11        2.87     \n",
       "12   12        3.29     \n",
       "13   13        3.24     \n",
       "14   14        3.20     \n",
       "15   15        3.08     \n",
       "16   16        3.04     \n",
       "17   17        3.45     \n",
       "18   18        2.66     \n",
       "19   19        3.10     \n",
       "20   20        3.23     \n",
       "21   21        3.42     \n",
       "22   22        3.29     \n",
       "23   23        4.17     \n",
       "24   24        2.60     \n",
       "25   25        3.54     \n",
       "26   26        3.02     \n",
       "27   27        3.28     \n",
       "28   28        3.24     \n",
       "29   29        2.86     \n",
       "30   30        3.67     \n",
       "⋮    ⋮         ⋮        \n",
       "971   971      2.71     \n",
       "972   972      2.70     \n",
       "973   973      3.46     \n",
       "974   974      3.02     \n",
       "975   975      3.26     \n",
       "976   976      2.89     \n",
       "977   977      3.78     \n",
       "978   978      3.18     \n",
       "979   979      3.27     \n",
       "980   980      3.45     \n",
       "981   981      2.98     \n",
       "982   982      2.61     \n",
       "983   983      3.18     \n",
       "984   984      2.77     \n",
       "985   985      2.41     \n",
       "986   986      3.08     \n",
       "987   987      2.79     \n",
       "988   988      3.26     \n",
       "989   989      2.92     \n",
       "990   990      2.78     \n",
       "991   991      3.27     \n",
       "992   992      3.37     \n",
       "993   993      3.85     \n",
       "994   994      3.13     \n",
       "995   995      2.98     \n",
       "996   996      3.57     \n",
       "997   997      3.05     \n",
       "998   998      3.75     \n",
       "999   999      3.09     \n",
       "1000 1000      3.25     "
      ]
     },
     "metadata": {},
     "output_type": "display_data"
    }
   ],
   "source": [
    "boot_distrib_tv"
   ]
  },
  {
   "cell_type": "markdown",
   "id": "ed69a010-99af-4c52-981d-9f7f88e7c5e2",
   "metadata": {},
   "source": [
    "## Question 2\n",
    "\n",
    "How many values of the bootstrap statistic `boot_stat` are there? Please\n",
    "explain **why** there are this many values of the bootstrap statistic.\n",
    "\n",
    "**Answer:**."
   ]
  },
  {
   "cell_type": "markdown",
   "id": "e70a02a3-f58f-40fc-9695-69f31c58e460",
   "metadata": {},
   "source": [
    "There are 1000 values, this is because we took 1000 samples of at 100 count. "
   ]
  },
  {
   "cell_type": "markdown",
   "id": "d44f804c-9e0c-4b6c-b859-79f0959bbbc0",
   "metadata": {},
   "source": [
    "### Visualizing the bootstrap distribution\n",
    "\n",
    "Make a histogram of the `boot_stat` values from `boot_distrib_tv`."
   ]
  },
  {
   "cell_type": "code",
   "execution_count": 33,
   "id": "48a72663-ef72-4437-ad9f-4d9d87307931",
   "metadata": {},
   "outputs": [
    {
     "data": {
      "image/png": "[encoded data removed]",
      "text/plain": [
       "plot without title"
      ]
     },
     "metadata": {
      "image/png": {
       "height": 500,
       "width": 625
      }
     },
     "output_type": "display_data"
    }
   ],
   "source": [
    "boot_distrib_tv |> \n",
    "    ggplot(aes(x = boot_stat)) + \n",
    "    geom_histogram(binwidth = 0.1, color = 'white', fill = 'red')"
   ]
  },
  {
   "cell_type": "markdown",
   "id": "5bacd976-f1ea-43f0-933c-5dd6f7041966",
   "metadata": {},
   "source": [
    "### Step 3: CI from a bootstrap resample\n",
    "\n",
    "### a) CI using the 95% rule\n",
    "\n",
    "We can now use the bootstrap distribution for the sample mean `tvhours`\n",
    "$\\bar{x}$ to calculate a 95% confidence interval for the population mean\n",
    "`tvhours` $\\mu_{tv}$, using the “95% rule for bell shaped\n",
    "distributions”, which states that the middle 95% of values of a\n",
    "bell/normal shaped distribution are between\n",
    "\n",
    "$$\\text{mean} \\pm 1.96 \\cdot SD$$\n",
    "\n",
    "-   the mean here would be the mean of the bootstrap distribution\n",
    "-   the SD here is the standard deviation of the bootstrap distribution,\n",
    "    which recall has a special name: the **standard error**.\n",
    "\n",
    "We can thus apply the 95% rule, like so:"
   ]
  },
  {
   "cell_type": "code",
   "execution_count": 26,
   "id": "bfdf04c7-cdea-44f8-b72a-da995e45f036",
   "metadata": {},
   "outputs": [
    {
     "data": {
      "text/html": [
       "<table class=\"dataframe\">\n",
       "<caption>A tibble: 1 × 4</caption>\n",
       "<thead>\n",
       "\t<tr><th scope=col>mean</th><th scope=col>se</th><th scope=col>lower_ci</th><th scope=col>upper_ci</th></tr>\n",
       "\t<tr><th scope=col>&lt;dbl&gt;</th><th scope=col>&lt;dbl&gt;</th><th scope=col>&lt;dbl&gt;</th><th scope=col>&lt;dbl&gt;</th></tr>\n",
       "</thead>\n",
       "<tbody>\n",
       "\t<tr><td>3.14418</td><td>0.3651603</td><td>2.428466</td><td>3.859894</td></tr>\n",
       "</tbody>\n",
       "</table>\n"
      ],
      "text/latex": [
       "A tibble: 1 × 4\n",
       "\\begin{tabular}{llll}\n",
       " mean & se & lower\\_ci & upper\\_ci\\\\\n",
       " <dbl> & <dbl> & <dbl> & <dbl>\\\\\n",
       "\\hline\n",
       "\t 3.14418 & 0.3651603 & 2.428466 & 3.859894\\\\\n",
       "\\end{tabular}\n"
      ],
      "text/markdown": [
       "\n",
       "A tibble: 1 × 4\n",
       "\n",
       "| mean &lt;dbl&gt; | se &lt;dbl&gt; | lower_ci &lt;dbl&gt; | upper_ci &lt;dbl&gt; |\n",
       "|---|---|---|---|\n",
       "| 3.14418 | 0.3651603 | 2.428466 | 3.859894 |\n",
       "\n"
      ],
      "text/plain": [
       "  mean    se        lower_ci upper_ci\n",
       "1 3.14418 0.3651603 2.428466 3.859894"
      ]
     },
     "metadata": {},
     "output_type": "display_data"
    }
   ],
   "source": [
    "boot_distrib_tv |>\n",
    "  summarize(mean = mean(boot_stat), \n",
    "            se = sd(boot_stat), \n",
    "            lower_ci = mean - (1.96 * se), \n",
    "            upper_ci = mean + (1.96 * se))"
   ]
  },
  {
   "cell_type": "markdown",
   "id": "cdd347fa-7ca8-41c0-b4e7-85f0c442e56c",
   "metadata": {},
   "source": [
    "### b) CI using percentile method\n",
    "\n",
    "You can also calculate a 95% confidence interval using the percentile\n",
    "method. The logic goes like this:\n",
    "\n",
    "Since our bootstrap resample had 1000 values of `boot_stat`:\n",
    "\n",
    "1.  950 of the `boot_stat` values fall **inside** this 95% confidence\n",
    "    interval, i.e. 95%\n",
    "2.  25 values fall **below** it. i.e. the lower 2.5%\n",
    "3.  25 values fall **above** it. i.e. the higher 2.5%\n",
    "\n",
    "totaling 100%. We can use **the quantiles** of the bootstrap\n",
    "distribution to find these values like so:"
   ]
  },
  {
   "cell_type": "code",
   "execution_count": 27,
   "id": "b135e63a-3807-46ca-8fff-3cc1b8482b39",
   "metadata": {},
   "outputs": [
    {
     "data": {
      "text/html": [
       "<table class=\"dataframe\">\n",
       "<caption>A tibble: 1 × 2</caption>\n",
       "<thead>\n",
       "\t<tr><th scope=col>lower_ci</th><th scope=col>upper_ci</th></tr>\n",
       "\t<tr><th scope=col>&lt;dbl&gt;</th><th scope=col>&lt;dbl&gt;</th></tr>\n",
       "</thead>\n",
       "<tbody>\n",
       "\t<tr><td>2.51</td><td>3.89</td></tr>\n",
       "</tbody>\n",
       "</table>\n"
      ],
      "text/latex": [
       "A tibble: 1 × 2\n",
       "\\begin{tabular}{ll}\n",
       " lower\\_ci & upper\\_ci\\\\\n",
       " <dbl> & <dbl>\\\\\n",
       "\\hline\n",
       "\t 2.51 & 3.89\\\\\n",
       "\\end{tabular}\n"
      ],
      "text/markdown": [
       "\n",
       "A tibble: 1 × 2\n",
       "\n",
       "| lower_ci &lt;dbl&gt; | upper_ci &lt;dbl&gt; |\n",
       "|---|---|\n",
       "| 2.51 | 3.89 |\n",
       "\n"
      ],
      "text/plain": [
       "     lower_ci upper_ci\n",
       "2.5% 2.51     3.89    "
      ]
     },
     "metadata": {},
     "output_type": "display_data"
    }
   ],
   "source": [
    "prct_ci_tv = boot_distrib_tv |> \n",
    "  summarize(lower_ci = quantile(boot_stat, 0.025), \n",
    "            upper_ci = quantile(boot_stat, 0.975))\n",
    "\n",
    "prct_ci_tv"
   ]
  },
  {
   "cell_type": "markdown",
   "id": "7d3d040d-a850-4323-ba47-91d6dd7d1c1c",
   "metadata": {},
   "source": [
    "This method\n",
    "\n",
    "-   Asks R to identify the 0.025 quantile of the bootstrap sample means…\n",
    "    this is the value **below** which **2.5% of the values of\n",
    "    `boot_stat`** fall (or 25 cases in this example… 25/1000 = 0.025)\n",
    "-   Asks R to identify the 0.975 quantile for the bootstrap sample\n",
    "    means… this is the value **above** which the other **2.5% of the\n",
    "    values of `boot_stat`** fall (or 25 cases in this example 975/1000 =\n",
    "    0.975)\n",
    "-   The middle 95% of the values fall between these two quantiles\n",
    "\n",
    "Based on these results, we are 95% confident that the **true mean hours\n",
    "of TV watched $\\mu_{tv}$ in the population** is between the upper and\n",
    "lower CI we just calculated."
   ]
  },
  {
   "cell_type": "markdown",
   "id": "a5b99b33-3c70-49c5-b74f-4a5781de9e09",
   "metadata": {},
   "source": [
    "### Visualizing the Confidence interval\n",
    "\n",
    "Display the bootstrap distribution and the 95% confidence intervals we just\n",
    "calculated below. \n",
    "\n",
    "1. Make a histogram of the `boot_stat` values from `boot_distrib_tv`.\n",
    "2. Add a green line for the lower bound of the 95% CI, and,\n",
    "3. a blue line fir the upper bound.\n",
    " \n",
    "950 of the 1000 bootstrap resamples had a mean for `tvhours` that fell **between**\n",
    "the green and blue lines…25 of the samples had a mean above the blue\n",
    "line, and 25 of the samples had a mean below the green line."
   ]
  },
  {
   "cell_type": "code",
   "execution_count": 32,
   "id": "a9cc23a2-5d3b-4c70-be39-41a5eec1e524",
   "metadata": {},
   "outputs": [
    {
     "data": {
      "image/png": "[encoded data removed]",
      "text/plain": [
       "plot without title"
      ]
     },
     "metadata": {
      "image/png": {
       "height": 500,
       "width": 625
      }
     },
     "output_type": "display_data"
    }
   ],
   "source": [
    "boot_distrib_tv |> \n",
    "    ggplot(aes(x = boot_stat)) + \n",
    "    geom_histogram(binwidth = 0.1, color = 'white', fill = 'red') +\n",
    "    geom_vline(xintercept = 2.51, color = 'green') + \n",
    "    geom_vline(xintercept = 3.89, color = 'blue')"
   ]
  },
  {
   "cell_type": "markdown",
   "id": "668d72bb-f684-4f4c-afc9-d5c77bea71d4",
   "metadata": {},
   "source": [
    "## Question 3\n",
    "\n",
    "**If** we calculated a **90% confidence interval** for the mean of\n",
    "`tvhours` using this same bootstrap resample and the percentile method,\n",
    "roughly how many of the 1000 values of `tv_mean` would fall between the\n",
    "green and blue lines?\n",
    "\n",
    "**Answer:**"
   ]
  },
  {
   "cell_type": "code",
   "execution_count": 39,
   "id": "c4dfb6b0-d679-49b5-bdc7-0b08ba906104",
   "metadata": {
    "tags": []
   },
   "outputs": [
    {
     "data": {
      "text/html": [
       "<table class=\"dataframe\">\n",
       "<caption>A tibble: 1 × 2</caption>\n",
       "<thead>\n",
       "\t<tr><th scope=col>lower_ci</th><th scope=col>upper_ci</th></tr>\n",
       "\t<tr><th scope=col>&lt;dbl&gt;</th><th scope=col>&lt;dbl&gt;</th></tr>\n",
       "</thead>\n",
       "<tbody>\n",
       "\t<tr><td>2.57</td><td>3.8</td></tr>\n",
       "</tbody>\n",
       "</table>\n"
      ],
      "text/latex": [
       "A tibble: 1 × 2\n",
       "\\begin{tabular}{ll}\n",
       " lower\\_ci & upper\\_ci\\\\\n",
       " <dbl> & <dbl>\\\\\n",
       "\\hline\n",
       "\t 2.57 & 3.8\\\\\n",
       "\\end{tabular}\n"
      ],
      "text/markdown": [
       "\n",
       "A tibble: 1 × 2\n",
       "\n",
       "| lower_ci &lt;dbl&gt; | upper_ci &lt;dbl&gt; |\n",
       "|---|---|\n",
       "| 2.57 | 3.8 |\n",
       "\n"
      ],
      "text/plain": [
       "   lower_ci upper_ci\n",
       "5% 2.57     3.8     "
      ]
     },
     "metadata": {},
     "output_type": "display_data"
    }
   ],
   "source": [
    "ci90_tv = boot_distrib_tv |> \n",
    "  summarize(lower_ci = quantile(boot_stat, 0.05), \n",
    "            upper_ci = quantile(boot_stat, 0.95))\n",
    "ci90_tv"
   ]
  },
  {
   "cell_type": "code",
   "execution_count": 37,
   "id": "0b9565f3-6f15-4b0b-9443-cfddbe9e0aaa",
   "metadata": {
    "tags": []
   },
   "outputs": [
    {
     "data": {
      "image/png": "[encoded data removed]",
      "text/plain": [
       "plot without title"
      ]
     },
     "metadata": {
      "image/png": {
       "height": 500,
       "width": 625
      }
     },
     "output_type": "display_data"
    }
   ],
   "source": [
    "boot_distrib_tv |> \n",
    "    ggplot(aes(x = boot_stat)) + \n",
    "    geom_histogram(binwidth = 0.1, color = 'white', fill = 'red') + \n",
    "    geom_vline(xintercept = 2.57, color = 'green') + \n",
    "    geom_vline(xintercept = 3.8, color = 'blue')"
   ]
  },
  {
   "cell_type": "markdown",
   "id": "a6796697-5236-473c-8d5c-ad1323ef7a23",
   "metadata": {
    "tags": []
   },
   "source": [
    "There would be about 900 lines that would be in the confidence of the blue and green lines. At 100 of those samples, those samples would fall under the lower_ci (2.57) and above the upper_ci (3.8)."
   ]
  },
  {
   "cell_type": "markdown",
   "id": "7ed28dd5-3c47-4175-bc31-a9a54aa2ca0e",
   "metadata": {},
   "source": [
    "## Question 4\n",
    "\n",
    "Use the bootstrap resampling distribution for `tvhours` generated above\n",
    "(`boot_distrib_tv`) and the **percentile** method to calculate a 99%\n",
    "confidence interval for the mean `tvhours`."
   ]
  },
  {
   "cell_type": "code",
   "execution_count": 51,
   "id": "0e4879bd-6057-4b35-b607-f2b9470ae16a",
   "metadata": {},
   "outputs": [
    {
     "data": {
      "text/html": [
       "<table class=\"dataframe\">\n",
       "<caption>A tibble: 1 × 4</caption>\n",
       "<thead>\n",
       "\t<tr><th scope=col>mean</th><th scope=col>se</th><th scope=col>lower_ci</th><th scope=col>upper_ci</th></tr>\n",
       "\t<tr><th scope=col>&lt;dbl&gt;</th><th scope=col>&lt;dbl&gt;</th><th scope=col>&lt;dbl&gt;</th><th scope=col>&lt;dbl&gt;</th></tr>\n",
       "</thead>\n",
       "<tbody>\n",
       "\t<tr><td>3.14418</td><td>0.3651603</td><td>2.417511</td><td>3.870849</td></tr>\n",
       "</tbody>\n",
       "</table>\n"
      ],
      "text/latex": [
       "A tibble: 1 × 4\n",
       "\\begin{tabular}{llll}\n",
       " mean & se & lower\\_ci & upper\\_ci\\\\\n",
       " <dbl> & <dbl> & <dbl> & <dbl>\\\\\n",
       "\\hline\n",
       "\t 3.14418 & 0.3651603 & 2.417511 & 3.870849\\\\\n",
       "\\end{tabular}\n"
      ],
      "text/markdown": [
       "\n",
       "A tibble: 1 × 4\n",
       "\n",
       "| mean &lt;dbl&gt; | se &lt;dbl&gt; | lower_ci &lt;dbl&gt; | upper_ci &lt;dbl&gt; |\n",
       "|---|---|---|---|\n",
       "| 3.14418 | 0.3651603 | 2.417511 | 3.870849 |\n",
       "\n"
      ],
      "text/plain": [
       "  mean    se        lower_ci upper_ci\n",
       "1 3.14418 0.3651603 2.417511 3.870849"
      ]
     },
     "metadata": {},
     "output_type": "display_data"
    }
   ],
   "source": [
    "ci99_tv = boot_distrib_tv |> \n",
    "  summarize(mean = mean(boot_stat), \n",
    "            se = sd(boot_stat),\n",
    "            lower_ci = mean - (1.99 * se), \n",
    "            upper_ci = mean + (1.99 * se))\n",
    "ci99_tv"
   ]
  },
  {
   "cell_type": "markdown",
   "id": "8e8eb7b7-d7b0-46af-a754-3ef727b4fef6",
   "metadata": {},
   "source": [
    "## Question 5\n",
    "\n",
    "Which confidence interval is **WIDER**: the 95% confidence interval or\n",
    "the 99% confidence interval for the population mean `tvhours`\n",
    "$\\mu_{tv}$? Why is this the case? Answer in terms of the trade-off\n",
    "between confidence level and confidence interval width.\n",
    "\n",
    "**Answer:**"
   ]
  },
  {
   "cell_type": "markdown",
   "id": "a81ef6bf-7c34-410a-8254-c83e91da370b",
   "metadata": {},
   "source": [
    "The looks of it the 99% is wider, it has a bigger range so this is expected. The confidence levels width is propotional and seems like it has a higher confidence. Which we can relate back to the principle that the higher confidence levels lead to wider confidence intervals, as we seek more assurance that the true value lies within the interval."
   ]
  },
  {
   "cell_type": "markdown",
   "id": "580964c9-b1ee-4981-8f23-d0f34f377086",
   "metadata": {},
   "source": [
    "## Question 6.a)\n",
    "\n",
    "Use the bootstrap resample we generated above (`boot_samp_1000`), to\n",
    "generate a **bootstrap distribution** for the sample mean respondent\n",
    "`age` $\\bar{x}$ instead of `tvhours`. Please be sure to **name it\n",
    "something different** than the bootstrap distribution for the sample\n",
    "mean of `tvhours`"
   ]
  },
  {
   "cell_type": "code",
   "execution_count": 42,
   "id": "90149c41-1e07-4514-9771-cbaa5d53d5a2",
   "metadata": {},
   "outputs": [
    {
     "data": {
      "text/html": [
       "<table class=\"dataframe\">\n",
       "<caption>A tibble: 6 × 2</caption>\n",
       "<thead>\n",
       "\t<tr><th scope=col>replicate</th><th scope=col>boot_stat</th></tr>\n",
       "\t<tr><th scope=col>&lt;int&gt;</th><th scope=col>&lt;dbl&gt;</th></tr>\n",
       "</thead>\n",
       "<tbody>\n",
       "\t<tr><td>1</td><td>47.12</td></tr>\n",
       "\t<tr><td>2</td><td>49.01</td></tr>\n",
       "\t<tr><td>3</td><td>45.54</td></tr>\n",
       "\t<tr><td>4</td><td>47.06</td></tr>\n",
       "\t<tr><td>5</td><td>46.11</td></tr>\n",
       "\t<tr><td>6</td><td>46.85</td></tr>\n",
       "</tbody>\n",
       "</table>\n"
      ],
      "text/latex": [
       "A tibble: 6 × 2\n",
       "\\begin{tabular}{ll}\n",
       " replicate & boot\\_stat\\\\\n",
       " <int> & <dbl>\\\\\n",
       "\\hline\n",
       "\t 1 & 47.12\\\\\n",
       "\t 2 & 49.01\\\\\n",
       "\t 3 & 45.54\\\\\n",
       "\t 4 & 47.06\\\\\n",
       "\t 5 & 46.11\\\\\n",
       "\t 6 & 46.85\\\\\n",
       "\\end{tabular}\n"
      ],
      "text/markdown": [
       "\n",
       "A tibble: 6 × 2\n",
       "\n",
       "| replicate &lt;int&gt; | boot_stat &lt;dbl&gt; |\n",
       "|---|---|\n",
       "| 1 | 47.12 |\n",
       "| 2 | 49.01 |\n",
       "| 3 | 45.54 |\n",
       "| 4 | 47.06 |\n",
       "| 5 | 46.11 |\n",
       "| 6 | 46.85 |\n",
       "\n"
      ],
      "text/plain": [
       "  replicate boot_stat\n",
       "1 1         47.12    \n",
       "2 2         49.01    \n",
       "3 3         45.54    \n",
       "4 4         47.06    \n",
       "5 5         46.11    \n",
       "6 6         46.85    "
      ]
     },
     "metadata": {},
     "output_type": "display_data"
    }
   ],
   "source": [
    "boot_distrib_age = boot_samp_1000 |>\n",
    "  group_by(replicate) |> \n",
    "  summarize(boot_stat = mean(age))\n",
    "\n",
    "boot_distrib_age |> head()"
   ]
  },
  {
   "cell_type": "markdown",
   "id": "039d847c-7d74-415b-b65c-857201072d1d",
   "metadata": {},
   "source": [
    "## Question 6.b)\n",
    "\n",
    "Calculate a 95% confidence interval for the population mean respondent\n",
    "`age` $\\mu_{age}$ using the **95% rule** method."
   ]
  },
  {
   "cell_type": "code",
   "execution_count": 43,
   "id": "f4ce1b17-4cbd-42c8-8827-2cf8cac6a0b6",
   "metadata": {},
   "outputs": [
    {
     "data": {
      "text/html": [
       "<table class=\"dataframe\">\n",
       "<caption>A tibble: 1 × 4</caption>\n",
       "<thead>\n",
       "\t<tr><th scope=col>mean</th><th scope=col>se</th><th scope=col>lower_ci</th><th scope=col>upper_ci</th></tr>\n",
       "\t<tr><th scope=col>&lt;dbl&gt;</th><th scope=col>&lt;dbl&gt;</th><th scope=col>&lt;dbl&gt;</th><th scope=col>&lt;dbl&gt;</th></tr>\n",
       "</thead>\n",
       "<tbody>\n",
       "\t<tr><td>47.60143</td><td>1.673659</td><td>44.32106</td><td>50.8818</td></tr>\n",
       "</tbody>\n",
       "</table>\n"
      ],
      "text/latex": [
       "A tibble: 1 × 4\n",
       "\\begin{tabular}{llll}\n",
       " mean & se & lower\\_ci & upper\\_ci\\\\\n",
       " <dbl> & <dbl> & <dbl> & <dbl>\\\\\n",
       "\\hline\n",
       "\t 47.60143 & 1.673659 & 44.32106 & 50.8818\\\\\n",
       "\\end{tabular}\n"
      ],
      "text/markdown": [
       "\n",
       "A tibble: 1 × 4\n",
       "\n",
       "| mean &lt;dbl&gt; | se &lt;dbl&gt; | lower_ci &lt;dbl&gt; | upper_ci &lt;dbl&gt; |\n",
       "|---|---|---|---|\n",
       "| 47.60143 | 1.673659 | 44.32106 | 50.8818 |\n",
       "\n"
      ],
      "text/plain": [
       "  mean     se       lower_ci upper_ci\n",
       "1 47.60143 1.673659 44.32106 50.8818 "
      ]
     },
     "metadata": {},
     "output_type": "display_data"
    }
   ],
   "source": [
    "ci95_age = boot_distrib_age |> \n",
    "  summarize(mean = mean(boot_stat), \n",
    "            se = sd(boot_stat),\n",
    "            lower_ci = mean - (1.96 * se), \n",
    "            upper_ci = mean + (1.96 * se))\n",
    "ci95_age"
   ]
  },
  {
   "cell_type": "markdown",
   "id": "555f6798-f541-435d-93ae-db979ffa8059",
   "metadata": {},
   "source": [
    "## Question 6.c)\n",
    "\n",
    "Calculate a 95% confidence interval for the population mean respondent\n",
    "`age` $\\mu_{age}$ using the **percentile** method."
   ]
  },
  {
   "cell_type": "code",
   "execution_count": 44,
   "id": "113a6039-e968-4f2c-9fad-464f019e8ddc",
   "metadata": {},
   "outputs": [
    {
     "data": {
      "text/html": [
       "<table class=\"dataframe\">\n",
       "<caption>A tibble: 1 × 2</caption>\n",
       "<thead>\n",
       "\t<tr><th scope=col>lower_ci</th><th scope=col>upper_ci</th></tr>\n",
       "\t<tr><th scope=col>&lt;dbl&gt;</th><th scope=col>&lt;dbl&gt;</th></tr>\n",
       "</thead>\n",
       "<tbody>\n",
       "\t<tr><td>44.888</td><td>50.2235</td></tr>\n",
       "</tbody>\n",
       "</table>\n"
      ],
      "text/latex": [
       "A tibble: 1 × 2\n",
       "\\begin{tabular}{ll}\n",
       " lower\\_ci & upper\\_ci\\\\\n",
       " <dbl> & <dbl>\\\\\n",
       "\\hline\n",
       "\t 44.888 & 50.2235\\\\\n",
       "\\end{tabular}\n"
      ],
      "text/markdown": [
       "\n",
       "A tibble: 1 × 2\n",
       "\n",
       "| lower_ci &lt;dbl&gt; | upper_ci &lt;dbl&gt; |\n",
       "|---|---|\n",
       "| 44.888 | 50.2235 |\n",
       "\n"
      ],
      "text/plain": [
       "   lower_ci upper_ci\n",
       "5% 44.888   50.2235 "
      ]
     },
     "metadata": {},
     "output_type": "display_data"
    }
   ],
   "source": [
    "ci95_age = boot_distrib_age |> \n",
    "  summarize(lower_ci = quantile(boot_stat, 0.05), \n",
    "            upper_ci = quantile(boot_stat, 0.95))\n",
    "\n",
    "ci95_age"
   ]
  },
  {
   "cell_type": "markdown",
   "id": "9220b55e-aca7-46a3-97e7-5211545cf209",
   "metadata": {},
   "source": [
    "## Question 6.d)\n",
    "\n",
    "How do the 95% confidence intervals you calculated in 6b and 6c compare?\n",
    "i.e. are the 95% CI values similar or are they pretty different?\n",
    "\n",
    "**Answer:**"
   ]
  },
  {
   "cell_type": "markdown",
   "id": "a9ddc7df-e411-4cfa-bbb2-91b8e705a27b",
   "metadata": {},
   "source": [
    "The seem similar but not the same, i think its because the intervals are different yet similar in values. "
   ]
  },
  {
   "cell_type": "markdown",
   "id": "d97693c8-2a50-4165-9cbf-aaca9bd7169d",
   "metadata": {},
   "source": [
    "## Question 7\n",
    "\n",
    "Use the **bootstrap resampling distribution** for the sample mean\n",
    "respondent `age` and the percentile method to calculate an 80%\n",
    "confidence interval for the population mean respondent age $\\mu_{age}$."
   ]
  },
  {
   "cell_type": "code",
   "execution_count": 45,
   "id": "68dd1de9-6ee8-4ad6-9e51-8dc6d76c8edc",
   "metadata": {},
   "outputs": [
    {
     "data": {
      "text/html": [
       "<table class=\"dataframe\">\n",
       "<caption>A tibble: 1 × 2</caption>\n",
       "<thead>\n",
       "\t<tr><th scope=col>lower_ci</th><th scope=col>upper_ci</th></tr>\n",
       "\t<tr><th scope=col>&lt;dbl&gt;</th><th scope=col>&lt;dbl&gt;</th></tr>\n",
       "</thead>\n",
       "<tbody>\n",
       "\t<tr><td>46.168</td><td>49.072</td></tr>\n",
       "</tbody>\n",
       "</table>\n"
      ],
      "text/latex": [
       "A tibble: 1 × 2\n",
       "\\begin{tabular}{ll}\n",
       " lower\\_ci & upper\\_ci\\\\\n",
       " <dbl> & <dbl>\\\\\n",
       "\\hline\n",
       "\t 46.168 & 49.072\\\\\n",
       "\\end{tabular}\n"
      ],
      "text/markdown": [
       "\n",
       "A tibble: 1 × 2\n",
       "\n",
       "| lower_ci &lt;dbl&gt; | upper_ci &lt;dbl&gt; |\n",
       "|---|---|\n",
       "| 46.168 | 49.072 |\n",
       "\n"
      ],
      "text/plain": [
       "    lower_ci upper_ci\n",
       "20% 46.168   49.072  "
      ]
     },
     "metadata": {},
     "output_type": "display_data"
    }
   ],
   "source": [
    "ci80_age = boot_distrib_age |> \n",
    "  summarize(lower_ci = quantile(boot_stat, 0.20), \n",
    "            upper_ci = quantile(boot_stat, 0.80))\n",
    "\n",
    "ci80_age"
   ]
  },
  {
   "cell_type": "markdown",
   "id": "0c245e88-a1c5-4ade-be64-0c667a85758c",
   "metadata": {},
   "source": [
    "# Bootstrap sampling distribution & confidence intervals with categorical variables\n",
    "\n",
    "The procedure for generating a bootstrap sampling distribution is VERY\n",
    "similar for categorical data. As an example we will generate a bootstrap\n",
    "sampling distribution for the proportion of respondents that identified\n",
    "as a Person of Color.\n",
    "\n",
    "### Step 1: Take 1000 bootstrap resamples\n",
    "\n",
    "We already did this above! We can use the same `boot_samp_1000` as\n",
    "before.\n",
    "\n",
    "### Step 2: Calculate the bootstrap statistic $\\hat{p}$"
   ]
  },
  {
   "cell_type": "code",
   "execution_count": 46,
   "id": "d8e775d9-d636-4f7f-b95d-21b67f9eb7b9",
   "metadata": {},
   "outputs": [
    {
     "data": {
      "text/html": [
       "<table class=\"dataframe\">\n",
       "<caption>A tibble: 6 × 4</caption>\n",
       "<thead>\n",
       "\t<tr><th scope=col>replicate</th><th scope=col>n</th><th scope=col>POC_count</th><th scope=col>boot_stat</th></tr>\n",
       "\t<tr><th scope=col>&lt;int&gt;</th><th scope=col>&lt;int&gt;</th><th scope=col>&lt;int&gt;</th><th scope=col>&lt;dbl&gt;</th></tr>\n",
       "</thead>\n",
       "<tbody>\n",
       "\t<tr><td>1</td><td>100</td><td>26</td><td>0.26</td></tr>\n",
       "\t<tr><td>2</td><td>100</td><td>24</td><td>0.24</td></tr>\n",
       "\t<tr><td>3</td><td>100</td><td>25</td><td>0.25</td></tr>\n",
       "\t<tr><td>4</td><td>100</td><td>16</td><td>0.16</td></tr>\n",
       "\t<tr><td>5</td><td>100</td><td>28</td><td>0.28</td></tr>\n",
       "\t<tr><td>6</td><td>100</td><td>22</td><td>0.22</td></tr>\n",
       "</tbody>\n",
       "</table>\n"
      ],
      "text/latex": [
       "A tibble: 6 × 4\n",
       "\\begin{tabular}{llll}\n",
       " replicate & n & POC\\_count & boot\\_stat\\\\\n",
       " <int> & <int> & <int> & <dbl>\\\\\n",
       "\\hline\n",
       "\t 1 & 100 & 26 & 0.26\\\\\n",
       "\t 2 & 100 & 24 & 0.24\\\\\n",
       "\t 3 & 100 & 25 & 0.25\\\\\n",
       "\t 4 & 100 & 16 & 0.16\\\\\n",
       "\t 5 & 100 & 28 & 0.28\\\\\n",
       "\t 6 & 100 & 22 & 0.22\\\\\n",
       "\\end{tabular}\n"
      ],
      "text/markdown": [
       "\n",
       "A tibble: 6 × 4\n",
       "\n",
       "| replicate &lt;int&gt; | n &lt;int&gt; | POC_count &lt;int&gt; | boot_stat &lt;dbl&gt; |\n",
       "|---|---|---|---|\n",
       "| 1 | 100 | 26 | 0.26 |\n",
       "| 2 | 100 | 24 | 0.24 |\n",
       "| 3 | 100 | 25 | 0.25 |\n",
       "| 4 | 100 | 16 | 0.16 |\n",
       "| 5 | 100 | 28 | 0.28 |\n",
       "| 6 | 100 | 22 | 0.22 |\n",
       "\n"
      ],
      "text/plain": [
       "  replicate n   POC_count boot_stat\n",
       "1 1         100 26        0.26     \n",
       "2 2         100 24        0.24     \n",
       "3 3         100 25        0.25     \n",
       "4 4         100 16        0.16     \n",
       "5 5         100 28        0.28     \n",
       "6 6         100 22        0.22     "
      ]
     },
     "metadata": {},
     "output_type": "display_data"
    }
   ],
   "source": [
    "boot_distrib_POC = boot_samp_1000 |> \n",
    "  group_by(replicate) |> \n",
    "  summarize(n = n(), \n",
    "            POC_count = sum(race == \"POC\"), \n",
    "            boot_stat = POC_count/n)\n",
    "\n",
    "boot_distrib_POC |> head()"
   ]
  },
  {
   "cell_type": "markdown",
   "id": "2529bb16-b0fe-41ba-bfa4-46ff2fb3fbea",
   "metadata": {},
   "source": [
    "Note that with a categorical variable, the code differs in two important\n",
    "respects now:\n",
    "\n",
    "-   the population parameter that we don’t know, but are inferring about\n",
    "    via sampling, is now the population proportion $p$ that identify as\n",
    "    a POC.\n",
    "-   the sample statistic AKA point estimate that we calculate with the\n",
    "    summarize command is now the **sample proportion** $\\widehat{p}$\n",
    "    rather than a sample mean $\\bar{x}$\n",
    "-   To get our proportion $\\widehat{p}$ of **ONE** of the race\n",
    "    categories (POC), we need to **first** calculate the total sample\n",
    "    size for each replicate and the count of how many cases are\n",
    "    `race == \"POC\"` in each replicate.\n",
    "\n",
    "### Step 3: Generate the 95% Confidence Interval\n",
    "\n",
    "### a) CI using the 95% rule\n",
    "\n",
    "The following will calculate the 95% confidence interval for the\n",
    "proportion of people that identified as `POC` using the 95% rule."
   ]
  },
  {
   "cell_type": "code",
   "execution_count": 47,
   "id": "040a77c6-21d1-4155-afdf-6bb9fdd4585b",
   "metadata": {},
   "outputs": [
    {
     "data": {
      "text/html": [
       "<table class=\"dataframe\">\n",
       "<caption>A tibble: 1 × 4</caption>\n",
       "<thead>\n",
       "\t<tr><th scope=col>mean</th><th scope=col>se</th><th scope=col>lower_ci</th><th scope=col>upper_ci</th></tr>\n",
       "\t<tr><th scope=col>&lt;dbl&gt;</th><th scope=col>&lt;dbl&gt;</th><th scope=col>&lt;dbl&gt;</th><th scope=col>&lt;dbl&gt;</th></tr>\n",
       "</thead>\n",
       "<tbody>\n",
       "\t<tr><td>0.24053</td><td>0.04213543</td><td>0.1579446</td><td>0.3231154</td></tr>\n",
       "</tbody>\n",
       "</table>\n"
      ],
      "text/latex": [
       "A tibble: 1 × 4\n",
       "\\begin{tabular}{llll}\n",
       " mean & se & lower\\_ci & upper\\_ci\\\\\n",
       " <dbl> & <dbl> & <dbl> & <dbl>\\\\\n",
       "\\hline\n",
       "\t 0.24053 & 0.04213543 & 0.1579446 & 0.3231154\\\\\n",
       "\\end{tabular}\n"
      ],
      "text/markdown": [
       "\n",
       "A tibble: 1 × 4\n",
       "\n",
       "| mean &lt;dbl&gt; | se &lt;dbl&gt; | lower_ci &lt;dbl&gt; | upper_ci &lt;dbl&gt; |\n",
       "|---|---|---|---|\n",
       "| 0.24053 | 0.04213543 | 0.1579446 | 0.3231154 |\n",
       "\n"
      ],
      "text/plain": [
       "  mean    se         lower_ci  upper_ci \n",
       "1 0.24053 0.04213543 0.1579446 0.3231154"
      ]
     },
     "metadata": {},
     "output_type": "display_data"
    }
   ],
   "source": [
    "boot_distrib_POC |> \n",
    "  summarize(mean = mean(boot_stat), \n",
    "            se = sd(boot_stat), \n",
    "            lower_ci = mean - (1.96 * se), \n",
    "            upper_ci = mean + (1.96 * se))"
   ]
  },
  {
   "cell_type": "markdown",
   "id": "d357dbd4-f7f8-41f7-beff-d7b26c97da32",
   "metadata": {},
   "source": [
    "### b) CI with the percentile method\n",
    "\n",
    "The following will calculate the 95% confidence interval for the\n",
    "proportion of people that identified as “POC” using the percentile\n",
    "method."
   ]
  },
  {
   "cell_type": "code",
   "execution_count": 48,
   "id": "1494bec9-5261-489d-9fee-4a97936d536f",
   "metadata": {},
   "outputs": [
    {
     "data": {
      "text/html": [
       "<table class=\"dataframe\">\n",
       "<caption>A tibble: 1 × 2</caption>\n",
       "<thead>\n",
       "\t<tr><th scope=col>lower_ci</th><th scope=col>upper_ci</th></tr>\n",
       "\t<tr><th scope=col>&lt;dbl&gt;</th><th scope=col>&lt;dbl&gt;</th></tr>\n",
       "</thead>\n",
       "<tbody>\n",
       "\t<tr><td>0.16</td><td>0.33</td></tr>\n",
       "</tbody>\n",
       "</table>\n"
      ],
      "text/latex": [
       "A tibble: 1 × 2\n",
       "\\begin{tabular}{ll}\n",
       " lower\\_ci & upper\\_ci\\\\\n",
       " <dbl> & <dbl>\\\\\n",
       "\\hline\n",
       "\t 0.16 & 0.33\\\\\n",
       "\\end{tabular}\n"
      ],
      "text/markdown": [
       "\n",
       "A tibble: 1 × 2\n",
       "\n",
       "| lower_ci &lt;dbl&gt; | upper_ci &lt;dbl&gt; |\n",
       "|---|---|\n",
       "| 0.16 | 0.33 |\n",
       "\n"
      ],
      "text/plain": [
       "     lower_ci upper_ci\n",
       "2.5% 0.16     0.33    "
      ]
     },
     "metadata": {},
     "output_type": "display_data"
    }
   ],
   "source": [
    "boot_distrib_POC |> \n",
    "  summarize(lower_ci = quantile(boot_stat, 0.025), \n",
    "            upper_ci = quantile(boot_stat, 0.975))"
   ]
  },
  {
   "cell_type": "markdown",
   "id": "35543c69-122e-4b2c-85dd-94f7e2bde982",
   "metadata": {},
   "source": [
    "## Question 8\n",
    "\n",
    "Calculate a 95% CI for the **population proportion** of respondents $p$\n",
    "that identified as **White** using EITHER the percentile or 95% rule\n",
    "method. Note that you will first need to generate the bootstrap\n",
    "distribution for the proportion of respondents that identified as\n",
    "`White`."
   ]
  },
  {
   "cell_type": "code",
   "execution_count": 49,
   "id": "5fb700df-87ff-4018-ab6e-9f86ee4b7a7c",
   "metadata": {},
   "outputs": [
    {
     "data": {
      "text/html": [
       "<table class=\"dataframe\">\n",
       "<caption>A tibble: 6 × 4</caption>\n",
       "<thead>\n",
       "\t<tr><th scope=col>replicate</th><th scope=col>n</th><th scope=col>POC_count</th><th scope=col>boot_stat</th></tr>\n",
       "\t<tr><th scope=col>&lt;int&gt;</th><th scope=col>&lt;int&gt;</th><th scope=col>&lt;int&gt;</th><th scope=col>&lt;dbl&gt;</th></tr>\n",
       "</thead>\n",
       "<tbody>\n",
       "\t<tr><td>1</td><td>100</td><td>74</td><td>0.74</td></tr>\n",
       "\t<tr><td>2</td><td>100</td><td>76</td><td>0.76</td></tr>\n",
       "\t<tr><td>3</td><td>100</td><td>75</td><td>0.75</td></tr>\n",
       "\t<tr><td>4</td><td>100</td><td>84</td><td>0.84</td></tr>\n",
       "\t<tr><td>5</td><td>100</td><td>72</td><td>0.72</td></tr>\n",
       "\t<tr><td>6</td><td>100</td><td>78</td><td>0.78</td></tr>\n",
       "</tbody>\n",
       "</table>\n"
      ],
      "text/latex": [
       "A tibble: 6 × 4\n",
       "\\begin{tabular}{llll}\n",
       " replicate & n & POC\\_count & boot\\_stat\\\\\n",
       " <int> & <int> & <int> & <dbl>\\\\\n",
       "\\hline\n",
       "\t 1 & 100 & 74 & 0.74\\\\\n",
       "\t 2 & 100 & 76 & 0.76\\\\\n",
       "\t 3 & 100 & 75 & 0.75\\\\\n",
       "\t 4 & 100 & 84 & 0.84\\\\\n",
       "\t 5 & 100 & 72 & 0.72\\\\\n",
       "\t 6 & 100 & 78 & 0.78\\\\\n",
       "\\end{tabular}\n"
      ],
      "text/markdown": [
       "\n",
       "A tibble: 6 × 4\n",
       "\n",
       "| replicate &lt;int&gt; | n &lt;int&gt; | POC_count &lt;int&gt; | boot_stat &lt;dbl&gt; |\n",
       "|---|---|---|---|\n",
       "| 1 | 100 | 74 | 0.74 |\n",
       "| 2 | 100 | 76 | 0.76 |\n",
       "| 3 | 100 | 75 | 0.75 |\n",
       "| 4 | 100 | 84 | 0.84 |\n",
       "| 5 | 100 | 72 | 0.72 |\n",
       "| 6 | 100 | 78 | 0.78 |\n",
       "\n"
      ],
      "text/plain": [
       "  replicate n   POC_count boot_stat\n",
       "1 1         100 74        0.74     \n",
       "2 2         100 76        0.76     \n",
       "3 3         100 75        0.75     \n",
       "4 4         100 84        0.84     \n",
       "5 5         100 72        0.72     \n",
       "6 6         100 78        0.78     "
      ]
     },
     "metadata": {},
     "output_type": "display_data"
    },
    {
     "data": {
      "text/html": [
       "<table class=\"dataframe\">\n",
       "<caption>A tibble: 1 × 2</caption>\n",
       "<thead>\n",
       "\t<tr><th scope=col>lower_ci</th><th scope=col>upper_ci</th></tr>\n",
       "\t<tr><th scope=col>&lt;dbl&gt;</th><th scope=col>&lt;dbl&gt;</th></tr>\n",
       "</thead>\n",
       "<tbody>\n",
       "\t<tr><td>0.67</td><td>0.84</td></tr>\n",
       "</tbody>\n",
       "</table>\n"
      ],
      "text/latex": [
       "A tibble: 1 × 2\n",
       "\\begin{tabular}{ll}\n",
       " lower\\_ci & upper\\_ci\\\\\n",
       " <dbl> & <dbl>\\\\\n",
       "\\hline\n",
       "\t 0.67 & 0.84\\\\\n",
       "\\end{tabular}\n"
      ],
      "text/markdown": [
       "\n",
       "A tibble: 1 × 2\n",
       "\n",
       "| lower_ci &lt;dbl&gt; | upper_ci &lt;dbl&gt; |\n",
       "|---|---|\n",
       "| 0.67 | 0.84 |\n",
       "\n"
      ],
      "text/plain": [
       "     lower_ci upper_ci\n",
       "2.5% 0.67     0.84    "
      ]
     },
     "metadata": {},
     "output_type": "display_data"
    }
   ],
   "source": [
    "boot_distrib_white = boot_samp_1000 |> \n",
    "  group_by(replicate) |> \n",
    "  summarize(n = n(), \n",
    "            POC_count = sum(race == \"White\"), \n",
    "            boot_stat = POC_count/n)\n",
    "\n",
    "boot_distrib_white |> head()\n",
    "\n",
    "boot_distrib_white |> \n",
    "  summarize(lower_ci = quantile(boot_stat, 0.025), \n",
    "            upper_ci = quantile(boot_stat, 0.975))"
   ]
  },
  {
   "cell_type": "markdown",
   "id": "006f77d7-c781-4309-a715-135eeb760faa",
   "metadata": {},
   "source": [
    "# Confidence intervals based on the theoretical normal distribution\n",
    "\n",
    "As described in [moderndive chapter\n",
    "8.7.2](https://moderndive-bert.netlify.com/8-confidence-intervals.html#theory-ci),\n",
    "not only can we generate confidence intervals using a\n",
    "computer/resampling as we’ve been doing until now, in many cases there\n",
    "also exists a mathematical formula! This however necessitates a little\n",
    "mathematical/probability theory; a topic we leave to a more advanced\n",
    "statistics class.\n",
    "\n",
    "To generate a 95% confidence interval based on the theoretical normal\n",
    "distribution, we can use the following formula:\n",
    "\n",
    "$$ \\text{point estimate} \\pm 1.96 \\cdot \\widehat{SE}$$\n",
    "\n",
    "So, for instance if we wanted to calculate the 95% confidence interval\n",
    "for the population mean of `tvhours` $\\mu_{tv}$ that respondents watched\n",
    "based on our sample:\n",
    "\n",
    "-   the **point estimate** AKA **sample statistic** in this case would\n",
    "    be the sample mean number of `tvhours` from the sample: $\\bar{x}$\n",
    "-   We would estimate the standard error using the formula\n",
    "\n",
    "$$\\widehat{SE} \\approx \\frac{s}{\\sqrt{n}}$$\n",
    "\n",
    "where $s$ is the **sample standard deviation**, which is a point\n",
    "estimate of the **population standard deviation** $\\sigma$.\n",
    "\n",
    "Thus a 95% CI would be\n",
    "\n",
    "$$\n",
    "\\bar{x} \\pm 1.96 \\cdot \\widehat{SE} =  \\bar{x} \\pm 1.96 \\cdot \\frac{s}{\\sqrt{n}}\n",
    "$$\n",
    "\n",
    "We can make these calculations in R like so:"
   ]
  },
  {
   "cell_type": "code",
   "execution_count": 50,
   "id": "2cf4c859-4df2-4474-94d6-8c5a6330a065",
   "metadata": {},
   "outputs": [
    {
     "data": {
      "text/html": [
       "<table class=\"dataframe\">\n",
       "<caption>A tibble: 1 × 6</caption>\n",
       "<thead>\n",
       "\t<tr><th scope=col>x_bar</th><th scope=col>sd</th><th scope=col>n</th><th scope=col>se</th><th scope=col>lower_ci</th><th scope=col>upper_ci</th></tr>\n",
       "\t<tr><th scope=col>&lt;dbl&gt;</th><th scope=col>&lt;dbl&gt;</th><th scope=col>&lt;int&gt;</th><th scope=col>&lt;dbl&gt;</th><th scope=col>&lt;dbl&gt;</th><th scope=col>&lt;dbl&gt;</th></tr>\n",
       "</thead>\n",
       "<tbody>\n",
       "\t<tr><td>3.14</td><td>3.592979</td><td>100</td><td>0.3592979</td><td>2.435776</td><td>3.844224</td></tr>\n",
       "</tbody>\n",
       "</table>\n"
      ],
      "text/latex": [
       "A tibble: 1 × 6\n",
       "\\begin{tabular}{llllll}\n",
       " x\\_bar & sd & n & se & lower\\_ci & upper\\_ci\\\\\n",
       " <dbl> & <dbl> & <int> & <dbl> & <dbl> & <dbl>\\\\\n",
       "\\hline\n",
       "\t 3.14 & 3.592979 & 100 & 0.3592979 & 2.435776 & 3.844224\\\\\n",
       "\\end{tabular}\n"
      ],
      "text/markdown": [
       "\n",
       "A tibble: 1 × 6\n",
       "\n",
       "| x_bar &lt;dbl&gt; | sd &lt;dbl&gt; | n &lt;int&gt; | se &lt;dbl&gt; | lower_ci &lt;dbl&gt; | upper_ci &lt;dbl&gt; |\n",
       "|---|---|---|---|---|---|\n",
       "| 3.14 | 3.592979 | 100 | 0.3592979 | 2.435776 | 3.844224 |\n",
       "\n"
      ],
      "text/plain": [
       "  x_bar sd       n   se        lower_ci upper_ci\n",
       "1 3.14  3.592979 100 0.3592979 2.435776 3.844224"
      ]
     },
     "metadata": {},
     "output_type": "display_data"
    }
   ],
   "source": [
    "gss_sample |> \n",
    "  summarize(x_bar = mean(tvhours), \n",
    "            sd = sd(tvhours), \n",
    "            n = n(), \n",
    "            se = sd/sqrt(n), \n",
    "            lower_ci = x_bar - 1.96 * se, \n",
    "            upper_ci = x_bar + 1.96 * se)"
   ]
  },
  {
   "cell_type": "markdown",
   "id": "9d23838d-233d-49aa-a70b-3ed21a104de1",
   "metadata": {},
   "source": [
    "## Question 9\n",
    "\n",
    "Write down the three 95% confidence intervals for the population mean of\n",
    "`tvhours` $\\mu_{tv}$ you’ve computed in this problem set. Do this by\n",
    "replacing X, Y, A, B, P, and Q with the appropriate values you’ve\n",
    "computed.\n",
    "\n",
    "When you are done, make sure all the `|` in the table still line up so\n",
    "your results print out in a table!\n",
    "\n",
    "| CI construction method          | lower value | upper value |\n",
    "|---------------------------------|-------------|-------------|\n",
    "| Using boostrap: 95% rule        | 2.435776    | 3.844224    |\n",
    "| Using boostrap: percentile rule | 2.417511    | 3.870849    |\n",
    "| Using mathematical formula      | 2.435776    | 3.844224    |"
   ]
  },
  {
   "cell_type": "markdown",
   "id": "b7370e8a-2eb5-4537-b30d-67f6eb8ca575",
   "metadata": {},
   "source": [
    "## Question 10\n",
    "\n",
    "**In your opinion**, would you say these three confidence intervals are\n",
    "similar?\n",
    "\n",
    "**Answer:**"
   ]
  },
  {
   "cell_type": "markdown",
   "id": "b77b4516-0fb1-4c56-9ab3-2ed4f572d939",
   "metadata": {},
   "source": [
    "The three intervals in this table are indeed all fairly similar. With the bootstrap 95% rule and the mathematical formula methods, one obtains identical intervals: lower value of 2.435776 and an upper value of 3.844224. By the bootstrap percentile rule method, we get an interval with a lower value of 2.417511 and an upper value of 3.870849. The small differences in width of the CI calcuated by the percentile method are due to the fact that this method directly calculates the confidence interval based on the distribution of the bootstrapped statistics, while the other two methods depend on a normality assumption and standard error estimates.\n"
   ]
  },
  {
   "cell_type": "code",
   "execution_count": null,
   "id": "c9a20a89-0b85-466e-92e6-f3f09a36cdf9",
   "metadata": {},
   "outputs": [],
   "source": []
  }
 ],
 "metadata": {
  "kernelspec": {
   "display_name": ".conda-data730:R",
   "language": "R",
   "name": "conda-env-.conda-data730-r"
  },
  "language_info": {
   "codemirror_mode": "r",
   "file_extension": ".r",
   "mimetype": "text/x-r-source",
   "name": "R",
   "pygments_lexer": "r",
   "version": "4.3.3"
  }
 },
 "nbformat": 4,
 "nbformat_minor": 5
}
